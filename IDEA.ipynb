{
 "cells": [
  {
   "cell_type": "code",
   "execution_count": 1,
   "metadata": {},
   "outputs": [],
   "source": [
    "import pandas as pd\n",
    "import numpy as np\n",
    "from collections import Counter"
   ]
  },
  {
   "cell_type": "code",
   "execution_count": 9,
   "metadata": {},
   "outputs": [],
   "source": [
    "# binarynoloc = pd.read_pickle('binarynoloc.pkl')\n",
    "# original=pd.read_pickle('original.pkl')\n",
    "# toanalize=np.load('patterngt1000.npy')\n",
    "# forkmer=np.load('forkmer.npy')\n",
    "kmers=np.load('kmersresult.npy')\n",
    "df=pd.read_pickle('df.pkl')"
   ]
  },
  {
   "cell_type": "code",
   "execution_count": 11,
   "metadata": {},
   "outputs": [
    {
     "data": {
      "text/plain": [
       "197"
      ]
     },
     "execution_count": 11,
     "metadata": {},
     "output_type": "execute_result"
    }
   ],
   "source": [
    "len(kmers[0])"
   ]
  },
  {
   "cell_type": "code",
   "execution_count": 14,
   "metadata": {},
   "outputs": [],
   "source": [
    "colnum=5\n",
    "for i in list(range(31,49))+[50,51,61]:\n",
    "    dff=pd.read_pickle(str(i)+'.pkl')\n",
    "    df[str(colnum)]=dff[3]\n",
    "    colnum+=1"
   ]
  },
  {
   "cell_type": "code",
   "execution_count": 47,
   "metadata": {},
   "outputs": [],
   "source": [
    "df.columns=list(range(0,26))"
   ]
  },
  {
   "cell_type": "code",
   "execution_count": 67,
   "metadata": {},
   "outputs": [],
   "source": [
    "for column in df:\n",
    "    if column>=3:\n",
    "        df[column]=df[column].astype('int8')"
   ]
  },
  {
   "cell_type": "code",
   "execution_count": 83,
   "metadata": {},
   "outputs": [
    {
     "name": "stdout",
     "output_type": "stream",
     "text": [
      "1000000\n",
      "2000000\n",
      "3000000\n",
      "4000000\n",
      "5000000\n",
      "6000000\n",
      "7000000\n",
      "8000000\n",
      "9000000\n",
      "10000000\n",
      "11000000\n",
      "12000000\n",
      "13000000\n"
     ]
    }
   ],
   "source": [
    "# remove all rows without enhancers\n",
    "select=[]\n",
    "i=0\n",
    "for index, row in df.iterrows():\n",
    "    i+=1\n",
    "    select.append(23 in row.values)\n",
    "    if i%1000000==0: print(i)\n",
    "        \n",
    "#     if any(df.iloc[rownum,:].isin(enhancer)):\n",
    "#         select.append((True)\n",
    "#     else:\n",
    "#         select.append(False)"
   ]
  },
  {
   "cell_type": "code",
   "execution_count": 100,
   "metadata": {},
   "outputs": [],
   "source": [
    "dff=df[select]"
   ]
  },
  {
   "cell_type": "code",
   "execution_count": 101,
   "metadata": {},
   "outputs": [],
   "source": [
    "for i in dff.index:\n",
    "    for j in list(range(3,26)):\n",
    "        if dff.at[i,j]==23:\n",
    "            dff.at[i, j] = 1\n",
    "        else:\n",
    "            dff.at[i, j] = 0"
   ]
  },
  {
   "cell_type": "code",
   "execution_count": 112,
   "metadata": {},
   "outputs": [],
   "source": [
    "duprows=dfff.groupby(dfff.columns.tolist()).apply(lambda x: tuple(x.index)).tolist()"
   ]
  },
  {
   "cell_type": "code",
   "execution_count": 119,
   "metadata": {},
   "outputs": [
    {
     "data": {
      "text/plain": [
       "64"
      ]
     },
     "execution_count": 119,
     "metadata": {},
     "output_type": "execute_result"
    }
   ],
   "source": [
    "toanalize=[]\n",
    "for i in duprows:\n",
    "    if len(i)>1000: toanalize.append(i)\n",
    "len(toanalize)"
   ]
  },
  {
   "cell_type": "code",
   "execution_count": 5,
   "metadata": {},
   "outputs": [
    {
     "data": {
      "text/plain": [
       "64"
      ]
     },
     "execution_count": 5,
     "metadata": {},
     "output_type": "execute_result"
    }
   ],
   "source": [
    "len(toanalize)"
   ]
  },
  {
   "cell_type": "code",
   "execution_count": 10,
   "metadata": {},
   "outputs": [
    {
     "name": "stdout",
     "output_type": "stream",
     "text": [
      "[5698, 8308, 41286, 49650, 55083]\n"
     ]
    }
   ],
   "source": [
    "forkmer=[]\n",
    "for pattern in toanalize:\n",
    "    forkmer=forkmer+list(pattern)\n",
    "print(forkmer[:5])"
   ]
  },
  {
   "cell_type": "code",
   "execution_count": 4,
   "metadata": {},
   "outputs": [],
   "source": [
    "kmerposition=original.iloc[:,0:3]\n",
    "kmerposition=kmerposition.loc[forkmer]"
   ]
  },
  {
   "cell_type": "code",
   "execution_count": 17,
   "metadata": {},
   "outputs": [],
   "source": [
    "np.savetxt(r'kmerposition.txt', kmerposition.values,fmt='%s %s %s', delimiter=\"\\t\")"
   ]
  },
  {
   "cell_type": "code",
   "execution_count": 5,
   "metadata": {},
   "outputs": [],
   "source": [
    "f = open('kmeroutput')\n",
    "tokmer = f.readlines()\n",
    "f.close()"
   ]
  },
  {
   "cell_type": "code",
   "execution_count": 6,
   "metadata": {},
   "outputs": [
    {
     "data": {
      "text/plain": [
       "2268075"
      ]
     },
     "execution_count": 6,
     "metadata": {},
     "output_type": "execute_result"
    }
   ],
   "source": [
    "len(tokmer)"
   ]
  },
  {
   "cell_type": "code",
   "execution_count": 7,
   "metadata": {},
   "outputs": [],
   "source": [
    "for i in range(len(tokmer)):\n",
    "    tokmer[i]=tokmer[i][:-1]"
   ]
  },
  {
   "cell_type": "code",
   "execution_count": 9,
   "metadata": {},
   "outputs": [],
   "source": [
    "def chunks(l,n):\n",
    "    for i in range(0,len(l),n):\n",
    "        yield l[i:i+n]"
   ]
  },
  {
   "cell_type": "code",
   "execution_count": 10,
   "metadata": {},
   "outputs": [],
   "source": [
    "totokmer=list(chunks(tokmer,5))"
   ]
  },
  {
   "cell_type": "code",
   "execution_count": 11,
   "metadata": {},
   "outputs": [],
   "source": [
    "def find_kmers(string, k):\n",
    "    localkmers = []\n",
    "    n = len(string)\n",
    "    for i in range(0, n-k+1):\n",
    "        localkmers.append(string[i:i+k])\n",
    "    return localkmers"
   ]
  },
  {
   "cell_type": "code",
   "execution_count": 12,
   "metadata": {},
   "outputs": [],
   "source": [
    "kmers=[]\n",
    "for chunks in totokmer:\n",
    "    string=''.join(chunks[1:5])\n",
    "    kmers.append(find_kmers(string,4))"
   ]
  },
  {
   "cell_type": "code",
   "execution_count": null,
   "metadata": {},
   "outputs": [],
   "source": [
    "np.save('kmersresult.npy',kmers)"
   ]
  },
  {
   "cell_type": "code",
   "execution_count": 13,
   "metadata": {},
   "outputs": [],
   "source": [
    "import itertools\n",
    "keywords = [''.join(i) for i in itertools.product(['A','C','T','G'], repeat = 4)]"
   ]
  },
  {
   "cell_type": "code",
   "execution_count": 14,
   "metadata": {},
   "outputs": [
    {
     "data": {
      "text/plain": [
       "256"
      ]
     },
     "execution_count": 14,
     "metadata": {},
     "output_type": "execute_result"
    }
   ],
   "source": [
    "len(keywords)"
   ]
  },
  {
   "cell_type": "code",
   "execution_count": 12,
   "metadata": {},
   "outputs": [],
   "source": [
    "df.drop(list(df)[256:],inplace=True,axis=1)"
   ]
  },
  {
   "cell_type": "code",
   "execution_count": 19,
   "metadata": {},
   "outputs": [],
   "source": [
    "originalindex['pattern']=-1"
   ]
  },
  {
   "cell_type": "code",
   "execution_count": 18,
   "metadata": {},
   "outputs": [],
   "source": [
    "originalindex=original.loc[forkmer]"
   ]
  },
  {
   "cell_type": "code",
   "execution_count": 21,
   "metadata": {},
   "outputs": [
    {
     "name": "stderr",
     "output_type": "stream",
     "text": [
      "/Users/ppht/miniconda3/lib/python3.6/site-packages/ipykernel_launcher.py:4: FutureWarning: set_value is deprecated and will be removed in a future release. Please use .at[] or .iat[] accessors instead\n",
      "  after removing the cwd from sys.path.\n"
     ]
    },
    {
     "name": "stdout",
     "output_type": "stream",
     "text": [
      "5\n",
      "10\n",
      "15\n",
      "20\n",
      "25\n",
      "30\n",
      "35\n",
      "40\n",
      "45\n",
      "50\n",
      "55\n",
      "60\n"
     ]
    }
   ],
   "source": [
    "i=0\n",
    "for pattern in toanalize:\n",
    "    for rownum in pattern:\n",
    "        originalindex.set_value(rownum,'pattern',int(i))\n",
    "    i+=1\n",
    "    if i%5==0:\n",
    "        print(i)"
   ]
  },
  {
   "cell_type": "code",
   "execution_count": 50,
   "metadata": {},
   "outputs": [],
   "source": [
    "df.to_pickle('df.pkl')"
   ]
  },
  {
   "cell_type": "code",
   "execution_count": 48,
   "metadata": {},
   "outputs": [],
   "source": [
    "df['pattern']=df['pattern']+2"
   ]
  },
  {
   "cell_type": "code",
   "execution_count": 53,
   "metadata": {},
   "outputs": [
    {
     "ename": "KeyboardInterrupt",
     "evalue": "",
     "output_type": "error",
     "traceback": [
      "\u001b[0;31m---------------------------------------------------------------------------\u001b[0m",
      "\u001b[0;31mKeyboardInterrupt\u001b[0m                         Traceback (most recent call last)",
      "\u001b[0;32m<ipython-input-53-0b0114f55243>\u001b[0m in \u001b[0;36m<module>\u001b[0;34m()\u001b[0m\n\u001b[1;32m     32\u001b[0m \u001b[0;34m\u001b[0m\u001b[0m\n\u001b[1;32m     33\u001b[0m     \u001b[0mlog_reg\u001b[0m\u001b[0;34m=\u001b[0m\u001b[0mLogisticRegressionCV\u001b[0m\u001b[0;34m(\u001b[0m\u001b[0mcv\u001b[0m\u001b[0;34m=\u001b[0m\u001b[0;36m5\u001b[0m\u001b[0;34m,\u001b[0m\u001b[0msolver\u001b[0m\u001b[0;34m=\u001b[0m\u001b[0;34m'liblinear'\u001b[0m\u001b[0;34m,\u001b[0m\u001b[0mpenalty\u001b[0m\u001b[0;34m=\u001b[0m\u001b[0;34m'l1'\u001b[0m\u001b[0;34m,\u001b[0m\u001b[0mn_jobs\u001b[0m\u001b[0;34m=\u001b[0m\u001b[0;34m-\u001b[0m\u001b[0;36m1\u001b[0m\u001b[0;34m,\u001b[0m\u001b[0mmax_iter\u001b[0m\u001b[0;34m=\u001b[0m\u001b[0;36m1000\u001b[0m\u001b[0;34m)\u001b[0m\u001b[0;34m\u001b[0m\u001b[0m\n\u001b[0;32m---> 34\u001b[0;31m     \u001b[0mlog_reg\u001b[0m\u001b[0;34m.\u001b[0m\u001b[0mfit\u001b[0m\u001b[0;34m(\u001b[0m\u001b[0mx_train\u001b[0m\u001b[0;34m,\u001b[0m\u001b[0my_train\u001b[0m\u001b[0;34m.\u001b[0m\u001b[0mravel\u001b[0m\u001b[0;34m(\u001b[0m\u001b[0;34m)\u001b[0m\u001b[0;34m)\u001b[0m\u001b[0;34m\u001b[0m\u001b[0m\n\u001b[0m\u001b[1;32m     35\u001b[0m \u001b[0;34m\u001b[0m\u001b[0m\n\u001b[1;32m     36\u001b[0m     \u001b[0mLRmodel\u001b[0m\u001b[0;34m.\u001b[0m\u001b[0mappend\u001b[0m\u001b[0;34m(\u001b[0m\u001b[0mlog_reg\u001b[0m\u001b[0;34m)\u001b[0m\u001b[0;34m\u001b[0m\u001b[0m\n",
      "\u001b[0;32m~/miniconda3/lib/python3.6/site-packages/sklearn/linear_model/logistic.py\u001b[0m in \u001b[0;36mfit\u001b[0;34m(self, X, y, sample_weight)\u001b[0m\n\u001b[1;32m   1685\u001b[0m                       \u001b[0msample_weight\u001b[0m\u001b[0;34m=\u001b[0m\u001b[0msample_weight\u001b[0m\u001b[0;34m\u001b[0m\u001b[0m\n\u001b[1;32m   1686\u001b[0m                       )\n\u001b[0;32m-> 1687\u001b[0;31m             \u001b[0;32mfor\u001b[0m \u001b[0mlabel\u001b[0m \u001b[0;32min\u001b[0m \u001b[0miter_encoded_labels\u001b[0m\u001b[0;34m\u001b[0m\u001b[0m\n\u001b[0m\u001b[1;32m   1688\u001b[0m             for train, test in folds)\n\u001b[1;32m   1689\u001b[0m \u001b[0;34m\u001b[0m\u001b[0m\n",
      "\u001b[0;32m~/miniconda3/lib/python3.6/site-packages/sklearn/externals/joblib/parallel.py\u001b[0m in \u001b[0;36m__call__\u001b[0;34m(self, iterable)\u001b[0m\n\u001b[1;32m    787\u001b[0m                 \u001b[0;31m# consumption.\u001b[0m\u001b[0;34m\u001b[0m\u001b[0;34m\u001b[0m\u001b[0m\n\u001b[1;32m    788\u001b[0m                 \u001b[0mself\u001b[0m\u001b[0;34m.\u001b[0m\u001b[0m_iterating\u001b[0m \u001b[0;34m=\u001b[0m \u001b[0;32mFalse\u001b[0m\u001b[0;34m\u001b[0m\u001b[0m\n\u001b[0;32m--> 789\u001b[0;31m             \u001b[0mself\u001b[0m\u001b[0;34m.\u001b[0m\u001b[0mretrieve\u001b[0m\u001b[0;34m(\u001b[0m\u001b[0;34m)\u001b[0m\u001b[0;34m\u001b[0m\u001b[0m\n\u001b[0m\u001b[1;32m    790\u001b[0m             \u001b[0;31m# Make sure that we get a last message telling us we are done\u001b[0m\u001b[0;34m\u001b[0m\u001b[0;34m\u001b[0m\u001b[0m\n\u001b[1;32m    791\u001b[0m             \u001b[0melapsed_time\u001b[0m \u001b[0;34m=\u001b[0m \u001b[0mtime\u001b[0m\u001b[0;34m.\u001b[0m\u001b[0mtime\u001b[0m\u001b[0;34m(\u001b[0m\u001b[0;34m)\u001b[0m \u001b[0;34m-\u001b[0m \u001b[0mself\u001b[0m\u001b[0;34m.\u001b[0m\u001b[0m_start_time\u001b[0m\u001b[0;34m\u001b[0m\u001b[0m\n",
      "\u001b[0;32m~/miniconda3/lib/python3.6/site-packages/sklearn/externals/joblib/parallel.py\u001b[0m in \u001b[0;36mretrieve\u001b[0;34m(self)\u001b[0m\n\u001b[1;32m    697\u001b[0m             \u001b[0;32mtry\u001b[0m\u001b[0;34m:\u001b[0m\u001b[0;34m\u001b[0m\u001b[0m\n\u001b[1;32m    698\u001b[0m                 \u001b[0;32mif\u001b[0m \u001b[0mgetattr\u001b[0m\u001b[0;34m(\u001b[0m\u001b[0mself\u001b[0m\u001b[0;34m.\u001b[0m\u001b[0m_backend\u001b[0m\u001b[0;34m,\u001b[0m \u001b[0;34m'supports_timeout'\u001b[0m\u001b[0;34m,\u001b[0m \u001b[0;32mFalse\u001b[0m\u001b[0;34m)\u001b[0m\u001b[0;34m:\u001b[0m\u001b[0;34m\u001b[0m\u001b[0m\n\u001b[0;32m--> 699\u001b[0;31m                     \u001b[0mself\u001b[0m\u001b[0;34m.\u001b[0m\u001b[0m_output\u001b[0m\u001b[0;34m.\u001b[0m\u001b[0mextend\u001b[0m\u001b[0;34m(\u001b[0m\u001b[0mjob\u001b[0m\u001b[0;34m.\u001b[0m\u001b[0mget\u001b[0m\u001b[0;34m(\u001b[0m\u001b[0mtimeout\u001b[0m\u001b[0;34m=\u001b[0m\u001b[0mself\u001b[0m\u001b[0;34m.\u001b[0m\u001b[0mtimeout\u001b[0m\u001b[0;34m)\u001b[0m\u001b[0;34m)\u001b[0m\u001b[0;34m\u001b[0m\u001b[0m\n\u001b[0m\u001b[1;32m    700\u001b[0m                 \u001b[0;32melse\u001b[0m\u001b[0;34m:\u001b[0m\u001b[0;34m\u001b[0m\u001b[0m\n\u001b[1;32m    701\u001b[0m                     \u001b[0mself\u001b[0m\u001b[0;34m.\u001b[0m\u001b[0m_output\u001b[0m\u001b[0;34m.\u001b[0m\u001b[0mextend\u001b[0m\u001b[0;34m(\u001b[0m\u001b[0mjob\u001b[0m\u001b[0;34m.\u001b[0m\u001b[0mget\u001b[0m\u001b[0;34m(\u001b[0m\u001b[0;34m)\u001b[0m\u001b[0;34m)\u001b[0m\u001b[0;34m\u001b[0m\u001b[0m\n",
      "\u001b[0;32m~/miniconda3/lib/python3.6/multiprocessing/pool.py\u001b[0m in \u001b[0;36mget\u001b[0;34m(self, timeout)\u001b[0m\n\u001b[1;32m    636\u001b[0m \u001b[0;34m\u001b[0m\u001b[0m\n\u001b[1;32m    637\u001b[0m     \u001b[0;32mdef\u001b[0m \u001b[0mget\u001b[0m\u001b[0;34m(\u001b[0m\u001b[0mself\u001b[0m\u001b[0;34m,\u001b[0m \u001b[0mtimeout\u001b[0m\u001b[0;34m=\u001b[0m\u001b[0;32mNone\u001b[0m\u001b[0;34m)\u001b[0m\u001b[0;34m:\u001b[0m\u001b[0;34m\u001b[0m\u001b[0m\n\u001b[0;32m--> 638\u001b[0;31m         \u001b[0mself\u001b[0m\u001b[0;34m.\u001b[0m\u001b[0mwait\u001b[0m\u001b[0;34m(\u001b[0m\u001b[0mtimeout\u001b[0m\u001b[0;34m)\u001b[0m\u001b[0;34m\u001b[0m\u001b[0m\n\u001b[0m\u001b[1;32m    639\u001b[0m         \u001b[0;32mif\u001b[0m \u001b[0;32mnot\u001b[0m \u001b[0mself\u001b[0m\u001b[0;34m.\u001b[0m\u001b[0mready\u001b[0m\u001b[0;34m(\u001b[0m\u001b[0;34m)\u001b[0m\u001b[0;34m:\u001b[0m\u001b[0;34m\u001b[0m\u001b[0m\n\u001b[1;32m    640\u001b[0m             \u001b[0;32mraise\u001b[0m \u001b[0mTimeoutError\u001b[0m\u001b[0;34m\u001b[0m\u001b[0m\n",
      "\u001b[0;32m~/miniconda3/lib/python3.6/multiprocessing/pool.py\u001b[0m in \u001b[0;36mwait\u001b[0;34m(self, timeout)\u001b[0m\n\u001b[1;32m    633\u001b[0m \u001b[0;34m\u001b[0m\u001b[0m\n\u001b[1;32m    634\u001b[0m     \u001b[0;32mdef\u001b[0m \u001b[0mwait\u001b[0m\u001b[0;34m(\u001b[0m\u001b[0mself\u001b[0m\u001b[0;34m,\u001b[0m \u001b[0mtimeout\u001b[0m\u001b[0;34m=\u001b[0m\u001b[0;32mNone\u001b[0m\u001b[0;34m)\u001b[0m\u001b[0;34m:\u001b[0m\u001b[0;34m\u001b[0m\u001b[0m\n\u001b[0;32m--> 635\u001b[0;31m         \u001b[0mself\u001b[0m\u001b[0;34m.\u001b[0m\u001b[0m_event\u001b[0m\u001b[0;34m.\u001b[0m\u001b[0mwait\u001b[0m\u001b[0;34m(\u001b[0m\u001b[0mtimeout\u001b[0m\u001b[0;34m)\u001b[0m\u001b[0;34m\u001b[0m\u001b[0m\n\u001b[0m\u001b[1;32m    636\u001b[0m \u001b[0;34m\u001b[0m\u001b[0m\n\u001b[1;32m    637\u001b[0m     \u001b[0;32mdef\u001b[0m \u001b[0mget\u001b[0m\u001b[0;34m(\u001b[0m\u001b[0mself\u001b[0m\u001b[0;34m,\u001b[0m \u001b[0mtimeout\u001b[0m\u001b[0;34m=\u001b[0m\u001b[0;32mNone\u001b[0m\u001b[0;34m)\u001b[0m\u001b[0;34m:\u001b[0m\u001b[0;34m\u001b[0m\u001b[0m\n",
      "\u001b[0;32m~/miniconda3/lib/python3.6/threading.py\u001b[0m in \u001b[0;36mwait\u001b[0;34m(self, timeout)\u001b[0m\n\u001b[1;32m    549\u001b[0m             \u001b[0msignaled\u001b[0m \u001b[0;34m=\u001b[0m \u001b[0mself\u001b[0m\u001b[0;34m.\u001b[0m\u001b[0m_flag\u001b[0m\u001b[0;34m\u001b[0m\u001b[0m\n\u001b[1;32m    550\u001b[0m             \u001b[0;32mif\u001b[0m \u001b[0;32mnot\u001b[0m \u001b[0msignaled\u001b[0m\u001b[0;34m:\u001b[0m\u001b[0;34m\u001b[0m\u001b[0m\n\u001b[0;32m--> 551\u001b[0;31m                 \u001b[0msignaled\u001b[0m \u001b[0;34m=\u001b[0m \u001b[0mself\u001b[0m\u001b[0;34m.\u001b[0m\u001b[0m_cond\u001b[0m\u001b[0;34m.\u001b[0m\u001b[0mwait\u001b[0m\u001b[0;34m(\u001b[0m\u001b[0mtimeout\u001b[0m\u001b[0;34m)\u001b[0m\u001b[0;34m\u001b[0m\u001b[0m\n\u001b[0m\u001b[1;32m    552\u001b[0m             \u001b[0;32mreturn\u001b[0m \u001b[0msignaled\u001b[0m\u001b[0;34m\u001b[0m\u001b[0m\n\u001b[1;32m    553\u001b[0m \u001b[0;34m\u001b[0m\u001b[0m\n",
      "\u001b[0;32m~/miniconda3/lib/python3.6/threading.py\u001b[0m in \u001b[0;36mwait\u001b[0;34m(self, timeout)\u001b[0m\n\u001b[1;32m    293\u001b[0m         \u001b[0;32mtry\u001b[0m\u001b[0;34m:\u001b[0m    \u001b[0;31m# restore state no matter what (e.g., KeyboardInterrupt)\u001b[0m\u001b[0;34m\u001b[0m\u001b[0m\n\u001b[1;32m    294\u001b[0m             \u001b[0;32mif\u001b[0m \u001b[0mtimeout\u001b[0m \u001b[0;32mis\u001b[0m \u001b[0;32mNone\u001b[0m\u001b[0;34m:\u001b[0m\u001b[0;34m\u001b[0m\u001b[0m\n\u001b[0;32m--> 295\u001b[0;31m                 \u001b[0mwaiter\u001b[0m\u001b[0;34m.\u001b[0m\u001b[0macquire\u001b[0m\u001b[0;34m(\u001b[0m\u001b[0;34m)\u001b[0m\u001b[0;34m\u001b[0m\u001b[0m\n\u001b[0m\u001b[1;32m    296\u001b[0m                 \u001b[0mgotit\u001b[0m \u001b[0;34m=\u001b[0m \u001b[0;32mTrue\u001b[0m\u001b[0;34m\u001b[0m\u001b[0m\n\u001b[1;32m    297\u001b[0m             \u001b[0;32melse\u001b[0m\u001b[0;34m:\u001b[0m\u001b[0;34m\u001b[0m\u001b[0m\n",
      "\u001b[0;31mKeyboardInterrupt\u001b[0m: "
     ]
    }
   ],
   "source": [
    "from sklearn.linear_model import LogisticRegressionCV\n",
    "from sklearn.metrics import accuracy_score\n",
    "import copy\n",
    "from sklearn.metrics import roc_auc_score\n",
    "import numpy as np\n",
    "import pandas as pd\n",
    "import random\n",
    "\n",
    "LRmodel=[]\n",
    "LRscore=[]\n",
    "df=pd.read_pickle('df.pkl')\n",
    "for i in [3]:\n",
    "    dff=copy.deepcopy(df)\n",
    "    dff.loc[dff.pattern==i,'pattern']=1\n",
    "    dff.loc[dff.pattern!=1, 'pattern'] = 0\n",
    "    one_index=dff.index[dff['pattern'] == 1].tolist()\n",
    "    random.shuffle(one_index)\n",
    "    zero_index=dff.index[dff['pattern'] == 0].tolist()\n",
    "    random.shuffle(zero_index)\n",
    "    breaker=int(len(one_index)*0.8)\n",
    "    train_index=np.asarray(one_index[:breaker])\n",
    "    train_index=np.append(train_index,np.asarray(zero_index[:breaker]))\n",
    "    test_index=np.asarray(one_index[breaker:])\n",
    "    test_index=np.append(test_index,np.asarray(zero_index[breaker:len(one_index)]))\n",
    "    \n",
    "    x_train=dff.loc[train_index].as_matrix(columns=list(dff)[:256])\n",
    "    x_test=dff.loc[test_index].as_matrix(columns=list(dff)[:256])\n",
    "    y_train=dff.loc[train_index].as_matrix(columns=['pattern'])\n",
    "    y_test=dff.loc[test_index].as_matrix(columns=['pattern'])\n",
    "\n",
    "    # perform logistic regression\n",
    "\n",
    "    log_reg=LogisticRegressionCV(cv=5,solver='liblinear',penalty='l1',n_jobs=-1,max_iter=1000)\n",
    "    log_reg.fit(x_train,y_train.ravel())\n",
    "     \n",
    "    LRmodel.append(log_reg)\n",
    "    \n",
    "    y_score=log_reg.decision_function(x_test)\n",
    "    \n",
    "    y_prob=log_reg.predict_proba(x_test)\n",
    "    \n",
    "    score=roc_auc_score(y_test,y_score)\n",
    "    \n",
    "    LRscore.append(score)\n",
    "\n",
    "    print(i,score)\n",
    "    del dff\n",
    "LRscore=np.asarray(LRscore)\n",
    "LRmodel=np.asarray(LRmodel)\n",
    "np.save('LRscore.npy',LRscore)\n",
    "np.save('LRmodel.npy',LRmodel)"
   ]
  },
  {
   "cell_type": "code",
   "execution_count": 3,
   "metadata": {},
   "outputs": [
    {
     "name": "stdout",
     "output_type": "stream",
     "text": [
      "2 0.7659574468085106\n"
     ]
    }
   ],
   "source": [
    "import numpy as np\n",
    "from sklearn.metrics import accuracy_score\n",
    "import copy\n",
    "from sklearn.metrics import roc_auc_score\n",
    "import pandas as pd\n",
    "import random\n",
    "from sklearn import svm\n",
    "\n",
    "SVCmodel=[]\n",
    "SVCscore=[]\n",
    "df=pd.read_pickle('df.pkl')\n",
    "for i in [2]:\n",
    "    dff=copy.deepcopy(df)\n",
    "    dff.loc[dff.pattern==i,'pattern']=1\n",
    "    dff.loc[dff.pattern!=1, 'pattern'] = 0\n",
    "    one_index=dff.index[dff['pattern'] == 1].tolist()\n",
    "    random.shuffle(one_index)\n",
    "    zero_index=dff.index[dff['pattern'] == 0].tolist()\n",
    "    random.shuffle(zero_index)\n",
    "    breaker=int(len(one_index)*0.8)\n",
    "    train_index=np.asarray(one_index[:breaker])\n",
    "    train_index=np.append(train_index,np.asarray(zero_index[:breaker]))\n",
    "    test_index=np.asarray(one_index[breaker:])\n",
    "    test_index=np.append(test_index,np.asarray(zero_index[breaker:len(one_index)]))\n",
    "    \n",
    "    x_train=dff.loc[train_index].as_matrix(columns=list(dff)[:256])\n",
    "    x_test=dff.loc[test_index].as_matrix(columns=list(dff)[:256])\n",
    "    y_train=dff.loc[train_index].as_matrix(columns=['pattern'])\n",
    "    y_test=dff.loc[test_index].as_matrix(columns=['pattern'])\n",
    "\n",
    "    svm=svm.SVC()\n",
    "    svm.fit(x_train,y_train.ravel())\n",
    "    \n",
    "    SVCmodel.append(svm)\n",
    "    score=roc_auc_score(y_test,svm.predict(x_test))\n",
    "    SVCscore.append(score)\n",
    "    \n",
    "    print(i,score)\n",
    "    \n",
    "SVCscore=np.asarray(SVCscore)\n",
    "SVCmodel=np.asarray(SVCmodel)\n",
    "np.save('SVCscore.npy',SVCscore)\n",
    "np.save('SVCmodel.npy',SVCmodel)"
   ]
  },
  {
   "cell_type": "code",
   "execution_count": 25,
   "metadata": {},
   "outputs": [
    {
     "name": "stdout",
     "output_type": "stream",
     "text": [
      "<class 'torch.Tensor'> <class 'torch.Tensor'> <class 'torch.Tensor'> <class 'torch.Tensor'>\n"
     ]
    }
   ],
   "source": [
    "import numpy as np\n",
    "import torch\n",
    "import torch.nn as nn\n",
    "from torch.autograd import Variable\n",
    "import torch.utils.data as Data\n",
    "import torchvision\n",
    "import matplotlib.pyplot as plt\n",
    "import torch.utils.data as Data\n",
    "from random import shuffle\n",
    "import copy\n",
    "\n",
    "\n",
    "df=pd.read_pickle('df.pkl')\n",
    "for i in [3]:\n",
    "    dff=copy.deepcopy(df)\n",
    "    dff.loc[dff.pattern==i,'pattern']=1\n",
    "    dff.loc[dff.pattern!=1, 'pattern'] = 0\n",
    "    one_index=dff.index[dff['pattern'] == 1].tolist()\n",
    "    shuffle(one_index)\n",
    "    zero_index=dff.index[dff['pattern'] == 0].tolist()\n",
    "    shuffle(zero_index)\n",
    "    breaker=int(len(one_index)*0.8)\n",
    "    train_index=np.asarray(one_index[:breaker])\n",
    "    train_index=np.append(train_index,np.asarray(zero_index[:breaker]))\n",
    "    test_index=np.asarray(one_index[breaker:])\n",
    "    test_index=np.append(test_index,np.asarray(zero_index[breaker:len(one_index)]))\n",
    "    \n",
    "    x_train=dff.loc[train_index].as_matrix(columns=list(dff)[:256])\n",
    "    x_test=dff.loc[test_index].as_matrix(columns=list(dff)[:256])\n",
    "    y_train=dff.loc[train_index].as_matrix(columns=['pattern'])\n",
    "    y_test=dff.loc[test_index].as_matrix(columns=['pattern'])\n",
    "\n",
    "x_train=torch.Tensor(x_train.astype(int)).unsqueeze(1)\n",
    "x_test=Variable(torch.Tensor(x_test.astype(int)).unsqueeze(1))\n",
    "y_train=torch.Tensor(y_train.astype(float)).flatten()\n",
    "y_test=torch.Tensor(y_test.astype(float)).flatten().long()\n",
    "\n",
    "print(type(x_train),type(x_test),type(y_train),type(y_test))\n",
    "\n",
    "\n",
    "import torch.utils.data as data_utils\n",
    "\n",
    "train = data_utils.TensorDataset(x_train, y_train)\n",
    "train_loader = data_utils.DataLoader(train, batch_size=10, shuffle=True,num_workers=2)\n"
   ]
  },
  {
   "cell_type": "code",
   "execution_count": 26,
   "metadata": {},
   "outputs": [
    {
     "name": "stdout",
     "output_type": "stream",
     "text": [
      "CNN(\n",
      "  (conv1): Sequential(\n",
      "    (0): Conv1d(1, 16, kernel_size=(1,), stride=(1,))\n",
      "    (1): ReLU()\n",
      "    (2): MaxPool1d(kernel_size=2, stride=2, padding=0, dilation=1, ceil_mode=False)\n",
      "  )\n",
      "  (conv2): Sequential(\n",
      "    (0): Conv1d(16, 32, kernel_size=(1,), stride=(1,))\n",
      "    (1): ReLU()\n",
      "    (2): MaxPool1d(kernel_size=2, stride=2, padding=0, dilation=1, ceil_mode=False)\n",
      "  )\n",
      "  (out): Linear(in_features=2048, out_features=2, bias=True)\n",
      ")\n"
     ]
    },
    {
     "name": "stderr",
     "output_type": "stream",
     "text": [
      "/Users/ppht/miniconda3/lib/python3.6/site-packages/ipykernel_launcher.py:60: UserWarning: invalid index of a 0-dim tensor. This will be an error in PyTorch 0.5. Use tensor.item() to convert a 0-dim tensor to a Python number\n"
     ]
    },
    {
     "name": "stdout",
     "output_type": "stream",
     "text": [
      "Epoch:  0 | train loss: 0.6612 | test accuracy: 0.50\n",
      "Epoch:  0 | train loss: 0.6983 | test accuracy: 0.51\n",
      "Epoch:  0 | train loss: 0.6552 | test accuracy: 0.52\n",
      "Epoch:  0 | train loss: 0.6840 | test accuracy: 0.53\n",
      "Epoch:  0 | train loss: 0.6673 | test accuracy: 0.50\n",
      "Epoch:  0 | train loss: 0.7133 | test accuracy: 0.52\n",
      "Epoch:  0 | train loss: 0.6944 | test accuracy: 0.50\n",
      "Epoch:  0 | train loss: 0.6998 | test accuracy: 0.50\n",
      "Epoch:  0 | train loss: 0.6833 | test accuracy: 0.52\n",
      "Epoch:  0 | train loss: 0.6990 | test accuracy: 0.51\n",
      "Epoch:  0 | train loss: 0.6843 | test accuracy: 0.52\n",
      "Epoch:  0 | train loss: 0.6818 | test accuracy: 0.51\n",
      "Epoch:  0 | train loss: 0.7196 | test accuracy: 0.53\n",
      "Epoch:  0 | train loss: 0.7009 | test accuracy: 0.52\n",
      "Epoch:  0 | train loss: 0.6600 | test accuracy: 0.52\n",
      "Epoch:  0 | train loss: 0.6998 | test accuracy: 0.53\n",
      "Epoch:  0 | train loss: 0.7160 | test accuracy: 0.51\n",
      "Epoch:  0 | train loss: 0.6882 | test accuracy: 0.51\n",
      "Epoch:  0 | train loss: 0.6488 | test accuracy: 0.53\n",
      "Epoch:  0 | train loss: 0.6310 | test accuracy: 0.53\n",
      "Epoch:  0 | train loss: 0.7304 | test accuracy: 0.53\n",
      "Epoch:  0 | train loss: 0.6562 | test accuracy: 0.52\n",
      "Epoch:  0 | train loss: 0.6782 | test accuracy: 0.53\n",
      "Epoch:  0 | train loss: 0.6998 | test accuracy: 0.51\n",
      "Epoch:  0 | train loss: 0.6980 | test accuracy: 0.53\n",
      "Epoch:  0 | train loss: 0.7220 | test accuracy: 0.53\n",
      "Epoch:  0 | train loss: 0.7367 | test accuracy: 0.53\n",
      "Epoch:  0 | train loss: 0.6734 | test accuracy: 0.53\n",
      "Epoch:  0 | train loss: 0.6789 | test accuracy: 0.52\n",
      "Epoch:  0 | train loss: 0.6945 | test accuracy: 0.53\n",
      "Epoch:  0 | train loss: 0.6843 | test accuracy: 0.53\n",
      "Epoch:  0 | train loss: 0.6768 | test accuracy: 0.53\n",
      "Epoch:  0 | train loss: 0.6855 | test accuracy: 0.53\n",
      "Epoch:  0 | train loss: 0.6951 | test accuracy: 0.53\n",
      "Epoch:  0 | train loss: 0.6339 | test accuracy: 0.53\n",
      "Epoch:  0 | train loss: 0.6717 | test accuracy: 0.52\n",
      "Epoch:  0 | train loss: 0.7080 | test accuracy: 0.53\n",
      "Epoch:  0 | train loss: 0.7041 | test accuracy: 0.51\n",
      "Epoch:  0 | train loss: 0.7108 | test accuracy: 0.53\n",
      "Epoch:  0 | train loss: 0.6846 | test accuracy: 0.53\n",
      "Epoch:  0 | train loss: 0.7299 | test accuracy: 0.53\n",
      "[1 1 1 ... 0 1 1] prediction number\n",
      "[1 1 1 ... 0 0 0] real number\n"
     ]
    }
   ],
   "source": [
    "# CNN\n",
    "\n",
    "# Hyper Parameters\n",
    "EPOCH = 1           # train the training data 3 times\n",
    "LR = 0.001              # learning rate\n",
    "\n",
    "class CNN(nn.Module):\n",
    "    def __init__(self):\n",
    "        super(CNN, self).__init__()\n",
    "        self.conv1 = nn.Sequential(  # input shape (1, 256)\n",
    "            nn.Conv1d(\n",
    "                in_channels=1,      # input height\n",
    "                out_channels=16,    # n_filters\n",
    "                kernel_size=1,      # filter size\n",
    "                stride=1,           # filter movement/step\n",
    "                padding=0      \n",
    "            ), #(16,256)\n",
    "            nn.ReLU(),    \n",
    "            nn.MaxPool1d(2), #(16,128)\n",
    "        )\n",
    "        self.conv2 = nn.Sequential(  \n",
    "            nn.Conv1d(16,32,1,1,0), #(32,128)\n",
    "            nn.ReLU(),  \n",
    "            nn.MaxPool1d(2), #(32,64)\n",
    "        )\n",
    "        self.out = nn.Linear(32*64,2)   \n",
    "\n",
    "    def forward(self, x):\n",
    "        x = self.conv1(x)\n",
    "        x = self.conv2(x)\n",
    "        x = x.view(x.size(0), -1)   \n",
    "        output = self.out(x)\n",
    "        return output,x\n",
    "\n",
    "\n",
    "\n",
    "cnn = CNN()\n",
    "print(cnn)  # net architecture\n",
    "\n",
    "optimizer = torch.optim.Adam(cnn.parameters(), lr=LR)   # optimize all cnn parameters\n",
    "loss_func = nn.CrossEntropyLoss()                       # the target label is not one-hotted\n",
    "\n",
    "\n",
    "# training and testing\n",
    "for epoch in range(EPOCH):\n",
    "    for step, (x, y) in enumerate(train_loader):   # gives batch data, normalize x when iterate train_loader\n",
    "        b_x = Variable(x)   # batch x\n",
    "        b_y = Variable(y.long())   # batch y\n",
    "\n",
    "        output = cnn(b_x)[0]               # cnn output\n",
    "        loss = loss_func(output, b_y)   # cross entropy loss\n",
    "        optimizer.zero_grad()           # clear gradients for this training step\n",
    "        loss.backward()                 # backpropagation, compute gradients\n",
    "        optimizer.step()                # apply gradients\n",
    "\n",
    "        if step % 100 == 0:\n",
    "            test_output, last_layer = cnn(x_test)\n",
    "            y_pred = torch.max(test_output, 1)[1].data.squeeze()\n",
    "            accuracy = (y_pred == y_test).sum().item() / float(y_test.size(0))\n",
    "            print('Epoch: ', epoch, '| train loss: %.4f' % loss.data[0], '| test accuracy: %.2f' % accuracy)\n",
    "\n",
    "# print 10 predictions from test data\n",
    "test_output, _ = cnn(x_test)\n",
    "pred_y = torch.max(test_output, 1)[1].data.numpy().squeeze()\n",
    "print(pred_y, 'prediction number')\n",
    "print(y_test.numpy(), 'real number')"
   ]
  },
  {
   "cell_type": "code",
   "execution_count": 4,
   "metadata": {},
   "outputs": [],
   "source": [
    "rfscore=np.load('RFscore.npy')"
   ]
  },
  {
   "cell_type": "code",
   "execution_count": 5,
   "metadata": {},
   "outputs": [
    {
     "data": {
      "text/plain": [
       "array([0.75886525, 0.51786766, 0.53751031, 0.50443853, 0.50478796,\n",
       "       0.53220339, 0.58340993, 0.50401606, 0.50317662, 0.58832808,\n",
       "       0.52912621, 0.53345353, 0.56218487, 0.53256303, 0.56721698,\n",
       "       0.55958549, 0.56679389, 0.50254381, 0.57264957, 0.59722222,\n",
       "       0.59180918, 0.58417085, 0.53762414, 0.57525084, 0.5423341 ,\n",
       "       0.53506601, 0.54029304, 0.53658537, 0.54509804, 0.56725469,\n",
       "       0.50499844, 0.50543288, 0.6205036 , 0.50412537, 0.57866667,\n",
       "       0.59803922, 0.60416667, 0.53646833, 0.55064935, 0.58043478,\n",
       "       0.61506276, 0.62740385, 0.51276245, 0.5849359 , 0.59508197,\n",
       "       0.63139932, 0.71759259, 0.63653137, 0.542     , 0.53271028,\n",
       "       0.51286174, 0.61333333, 0.5866426 , 0.5731143 , 0.51831502,\n",
       "       0.61152416, 0.56283422, 0.61068702, 0.56640625, 0.51569507,\n",
       "       0.60841655, 0.64215686, 0.62433155, 0.62408088])"
      ]
     },
     "execution_count": 5,
     "metadata": {},
     "output_type": "execute_result"
    }
   ],
   "source": [
    "rfscore"
   ]
  },
  {
   "cell_type": "code",
   "execution_count": 10,
   "metadata": {},
   "outputs": [],
   "source": [
    "import matplotlib.pyplot as plt"
   ]
  },
  {
   "cell_type": "code",
   "execution_count": 15,
   "metadata": {},
   "outputs": [
    {
     "data": {
      "image/png": "[encoded data removed]",
      "text/plain": [
       "<Figure size 432x288 with 1 Axes>"
      ]
     },
     "metadata": {},
     "output_type": "display_data"
    }
   ],
   "source": [
    "plt.scatter(list(range(len(rfscore))),rfscore)\n",
    "plt.xlabel(\"pattern\")\n",
    "plt.ylabel(\"ROC-AUC score\")\n",
    "plt.title('Random Forest Result Evaluation')\n",
    "plt.savefig('RFfinal.png')\n",
    "plt.show()\n"
   ]
  },
  {
   "cell_type": "code",
   "execution_count": 17,
   "metadata": {},
   "outputs": [
    {
     "data": {
      "text/plain": [
       "'0.19.1'"
      ]
     },
     "execution_count": 17,
     "metadata": {},
     "output_type": "execute_result"
    }
   ],
   "source": [
    "import sklearn\n",
    "sklearn.__version__"
   ]
  },
  {
   "cell_type": "code",
   "execution_count": 19,
   "metadata": {},
   "outputs": [
    {
     "name": "stdout",
     "output_type": "stream",
     "text": [
      "0.4.1\n"
     ]
    }
   ],
   "source": [
    "import torch\n",
    "print(torch.__version__)"
   ]
  },
  {
   "cell_type": "code",
   "execution_count": 21,
   "metadata": {},
   "outputs": [],
   "source": [
    "import matplotlib"
   ]
  },
  {
   "cell_type": "code",
   "execution_count": 22,
   "metadata": {},
   "outputs": [
    {
     "data": {
      "text/plain": [
       "'2.2.2'"
      ]
     },
     "execution_count": 22,
     "metadata": {},
     "output_type": "execute_result"
    }
   ],
   "source": [
    "matplotlib.__version__"
   ]
  },
  {
   "cell_type": "code",
   "execution_count": null,
   "metadata": {},
   "outputs": [],
   "source": []
  }
 ],
 "metadata": {
  "kernelspec": {
   "display_name": "Python 3",
   "language": "python",
   "name": "python3"
  },
  "language_info": {
   "codemirror_mode": {
    "name": "ipython",
    "version": 3
   },
   "file_extension": ".py",
   "mimetype": "text/x-python",
   "name": "python",
   "nbconvert_exporter": "python",
   "pygments_lexer": "ipython3",
   "version": "3.6.5"
  }
 },
 "nbformat": 4,
 "nbformat_minor": 2
}
